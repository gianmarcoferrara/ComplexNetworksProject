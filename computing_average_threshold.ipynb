{
 "cells": [
  {
   "cell_type": "code",
   "execution_count": 4,
   "id": "5c1834d0-beb1-4475-ac39-3269feab2f4c",
   "metadata": {},
   "outputs": [
    {
     "name": "stdout",
     "output_type": "stream",
     "text": [
      "adjacency_matrix_1.csv: 0.6083676360209692\n",
      "adjacency_matrix_2.csv: 0.6287567928877963\n",
      "adjacency_matrix_3.csv: 0.535303791021475\n",
      "adjacency_matrix_4.csv: 0.5012930307406686\n",
      "adjacency_matrix_5.csv: 0.6605452454123449\n",
      "adjacency_matrix_6.csv: 0.7203506850006612\n",
      "adjacency_matrix_7.csv: 0.6286944808031956\n",
      "adjacency_matrix_8.csv: 0.564135560472728\n",
      "adjacency_matrix_9.csv: 0.6090641119021\n",
      "adjacency_matrix_10.csv: 0.679873714989298\n",
      "adjacency_matrix_11.csv: 0.6714806282957896\n",
      "adjacency_matrix_12.csv: 0.5279046887101908\n",
      "adjacency_matrix_13.csv: 0.6120487351213411\n",
      "adjacency_matrix_14.csv: 0.7142293673082972\n",
      "adjacency_matrix_15.csv: 0.8267379732197636\n",
      "adjacency_matrix_16.csv: 0.8100175457477459\n",
      "adjacency_matrix_17.csv: 0.7450003575530549\n",
      "adjacency_matrix_18.csv: 0.7102658821706241\n",
      "adjacency_matrix_19.csv: 0.7152995365658025\n",
      "adjacency_matrix_20.csv: 0.8125477130835947\n",
      "adjacency_matrix_21.csv: 0.8091025646902079\n",
      "adjacency_matrix_22.csv: 0.8351339933514934\n",
      "adjacency_matrix_23.csv: 0.8560558747427283\n",
      "adjacency_matrix_24.csv: 0.7334740226110209\n",
      "adjacency_matrix_25.csv: 0.8607135021438469\n",
      "adjacency_matrix_26.csv: 0.9075929808994768\n",
      "adjacency_matrix_27.csv: 0.9480870950944984\n",
      "adjacency_matrix_28.csv: 0.9799926881664052\n",
      "adjacency_matrix_29.csv: 0.967095414343639\n",
      "adjacency_matrix_30.csv: 0.9009551529523084\n",
      "adjacency_matrix_31.csv: 0.8563077586346198\n",
      "adjacency_matrix_32.csv: 0.8530638481664884\n",
      "\n",
      "Average of smallest non-zero values: 0.7434216366507554\n"
     ]
    }
   ],
   "source": [
    "import pandas as pd\n",
    "import numpy as np\n",
    "\n",
    "# Define the folder containing the files\n",
    "folder_path = '/Users/gianmarcoferrara/Desktop/adjacency_matrices/'  # Replace with your folder path\n",
    "\n",
    "# Initialize a dictionary to store results\n",
    "file_min_values = {}\n",
    "\n",
    "# Loop through files named adjacency_matrix_1.csv to adjacency_matrix_32.csv\n",
    "for i in range(1, 33):  # Adjust range if necessary\n",
    "    file_name = f\"adjacency_matrix_{i}.csv\"  # Generate file name\n",
    "    file_path = folder_path + file_name      # Full path to the file\n",
    "    \n",
    "    # Read the CSV file into a DataFrame\n",
    "    try:\n",
    "        data = pd.read_csv(file_path, header=None)\n",
    "        data = data.fillna(0)\n",
    "        \n",
    "        # Convert the DataFrame to a NumPy array\n",
    "        matrix = data.to_numpy()\n",
    "        \n",
    "        # Find all non-zero elements in the matrix\n",
    "        non_zero_elements = matrix[matrix != 0]\n",
    "        \n",
    "        # Find the smallest non-zero value\n",
    "        smallest_non_zero_value = np.min(non_zero_elements) if non_zero_elements.size > 0 else None\n",
    "        \n",
    "        # Store the result\n",
    "        file_min_values[file_name] = smallest_non_zero_value\n",
    "    except FileNotFoundError:\n",
    "        print(f\"File {file_name} not found. Skipping.\")\n",
    "\n",
    "# Compute the average of all smallest non-zero values\n",
    "min_values = [value for value in file_min_values.values() if value is not None]  # Filter out None values\n",
    "average_min_value = np.mean(min_values) if min_values else None\n",
    "\n",
    "# Print results\n",
    "for file_name, min_value in file_min_values.items():\n",
    "    print(f\"{file_name}: {min_value}\")\n",
    "\n",
    "print(\"\\nAverage of smallest non-zero values:\", average_min_value)\n"
   ]
  }
 ],
 "metadata": {
  "kernelspec": {
   "display_name": "Python 3 (ipykernel)",
   "language": "python",
   "name": "python3"
  },
  "language_info": {
   "codemirror_mode": {
    "name": "ipython",
    "version": 3
   },
   "file_extension": ".py",
   "mimetype": "text/x-python",
   "name": "python",
   "nbconvert_exporter": "python",
   "pygments_lexer": "ipython3",
   "version": "3.11.7"
  }
 },
 "nbformat": 4,
 "nbformat_minor": 5
}
