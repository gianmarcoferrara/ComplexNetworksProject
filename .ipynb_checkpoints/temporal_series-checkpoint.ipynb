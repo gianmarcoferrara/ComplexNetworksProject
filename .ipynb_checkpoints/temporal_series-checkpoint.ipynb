{
 "cells": [
  {
   "cell_type": "code",
   "execution_count": 5,
   "id": "afc15056-9faf-4250-9f76-65e8a1be7062",
   "metadata": {},
   "outputs": [
    {
     "name": "stdout",
     "output_type": "stream",
     "text": [
      "       Unnamed: 0        date   county  ... cases  deaths  new_cases\n",
      "0            5027  2020-03-24  Autauga  ...     1     0.0        0.0\n",
      "1            6369  2020-03-25  Autauga  ...     4     0.0        3.0\n",
      "2            7888  2020-03-26  Autauga  ...     6     0.0        2.0\n",
      "3            9533  2020-03-27  Autauga  ...     6     0.0        0.0\n",
      "4           11298  2020-03-28  Autauga  ...     6     0.0        0.0\n",
      "...           ...         ...      ...  ...   ...     ...        ...\n",
      "93115       81560  2023-03-19   Weston  ...  1906    23.0        0.0\n",
      "93116       84697  2023-03-20   Weston  ...  1906    23.0        0.0\n",
      "93117       87833  2023-03-21   Weston  ...  1906    23.0        0.0\n",
      "93118       90972  2023-03-22   Weston  ...  1906    23.0        0.0\n",
      "93119       94110  2023-03-23   Weston  ...  1906    23.0        0.0\n",
      "\n",
      "[3202978 rows x 8 columns]\n",
      "The number of rows berfoe pivot is:  3202978\n",
      "Number of rows: 1048\n",
      "Number of columns: 3104\n",
      "fips        1001.0   1003.0   1005.0   ...  56041.0  56043.0  56045.0\n",
      "date                                   ...                           \n",
      "2020-03-19      0.0      0.0      0.0  ...      0.0      0.0      0.0\n",
      "2020-03-20      0.0      1.0      0.0  ...      0.0      0.0      0.0\n",
      "2020-03-21      0.0      0.0      0.0  ...      0.0      0.0      0.0\n",
      "2020-03-22      0.0      0.0      0.0  ...      0.0      0.0      0.0\n",
      "2020-03-23      0.0      1.0      0.0  ...      0.0      0.0      0.0\n",
      "...             ...      ...      ...  ...      ...      ...      ...\n",
      "2023-03-19      0.0      0.0      0.0  ...      0.0      0.0      0.0\n",
      "2023-03-20      0.0      0.0      0.0  ...      0.0      0.0      0.0\n",
      "2023-03-21      0.0      0.0      0.0  ...      1.0    -56.0      0.0\n",
      "2023-03-22     13.0     79.0     13.0  ...      0.0      0.0      0.0\n",
      "2023-03-23      0.0      0.0      0.0  ...      0.0      0.0      0.0\n",
      "\n",
      "[1048 rows x 3104 columns]\n",
      "Le serie temporali sono state salvate nel file 'serie_temporali_contee.csv'\n"
     ]
    }
   ],
   "source": [
    "import pandas as pd\n",
    "\n",
    "df1 = pd.read_csv('/Users/gianmarcoferrara/ComplexNetworksProject/new_daily_2020.csv')\n",
    "df2 = pd.read_csv('/Users/gianmarcoferrara/ComplexNetworksProject/new_daily_2021.csv')\n",
    "df3 = pd.read_csv('/Users/gianmarcoferrara/ComplexNetworksProject/new_daily_2022.csv')\n",
    "df4 = pd.read_csv('/Users/gianmarcoferrara/ComplexNetworksProject/new_daily_2023.csv')\n",
    "\n",
    "# Carica e unisce tutti i file CSV in un unico DataFrame\n",
    "df_final = pd.concat([df1, df2, df3, df4])\n",
    "\n",
    "print(df_final)\n",
    "num_rows = len(df_final)\n",
    "\n",
    "print('The number of rows berfoe pivot is: ', num_rows)\n",
    "\n",
    "# Assicurati che la colonna \"date\" sia di tipo datetime\n",
    "df_final['date'] = pd.to_datetime(df_final['date'])\n",
    "\n",
    "\n",
    "# Pivot del DataFrame: trasforma la colonna \"contea\" in colonne e riempi con \"numero di nuovi casi\"\n",
    "df_pivot = df_final.pivot_table(index='date', columns='fips', values='new_cases')\n",
    "\n",
    "\n",
    "rows, columns = df_pivot.shape\n",
    "print(f\"Number of rows: {rows}\")\n",
    "print(f\"Number of columns: {columns}\")\n",
    "df_temporal = df_pivot.fillna(0)\n",
    "print(df_temporal)\n",
    "\n",
    "# Salva il risultato su un nuovo file CSV\n",
    "df_temporal.to_csv('serie_temporali_conte.csv')\n",
    "\n",
    "print(\"Le serie temporali sono state salvate nel file 'serie_temporali_contee.csv'\")\n"
   ]
  },
  {
   "cell_type": "code",
   "execution_count": null,
   "id": "09b1534f-11b3-406c-9dd1-879090d6ce7f",
   "metadata": {},
   "outputs": [],
   "source": []
  },
  {
   "cell_type": "code",
   "execution_count": null,
   "id": "bd2b3efb-be72-43b2-8258-6c200237b347",
   "metadata": {},
   "outputs": [],
   "source": []
  }
 ],
 "metadata": {
  "kernelspec": {
   "display_name": "Python 3 (ipykernel)",
   "language": "python",
   "name": "python3"
  },
  "language_info": {
   "codemirror_mode": {
    "name": "ipython",
    "version": 3
   },
   "file_extension": ".py",
   "mimetype": "text/x-python",
   "name": "python",
   "nbconvert_exporter": "python",
   "pygments_lexer": "ipython3",
   "version": "3.11.7"
  }
 },
 "nbformat": 4,
 "nbformat_minor": 5
}
