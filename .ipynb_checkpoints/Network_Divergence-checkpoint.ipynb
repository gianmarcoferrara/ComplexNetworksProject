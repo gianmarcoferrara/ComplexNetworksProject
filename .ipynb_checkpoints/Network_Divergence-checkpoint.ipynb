{
 "cells": [
  {
   "cell_type": "code",
   "execution_count": 1,
   "id": "c13c68bd-8d49-484d-b170-7da9e9dcf2c9",
   "metadata": {},
   "outputs": [
    {
     "name": "stdout",
     "output_type": "stream",
     "text": [
      "Degree differences saved to 'degree_differences_1.csv'\n",
      "Degree differences saved to 'degree_differences_2.csv'\n",
      "Degree differences saved to 'degree_differences_3.csv'\n",
      "Degree differences saved to 'degree_differences_4.csv'\n",
      "Degree differences saved to 'degree_differences_5.csv'\n",
      "Degree differences saved to 'degree_differences_6.csv'\n",
      "Degree differences saved to 'degree_differences_7.csv'\n",
      "Degree differences saved to 'degree_differences_8.csv'\n",
      "Degree differences saved to 'degree_differences_9.csv'\n",
      "Degree differences saved to 'degree_differences_10.csv'\n",
      "Degree differences saved to 'degree_differences_11.csv'\n",
      "Degree differences saved to 'degree_differences_12.csv'\n",
      "Degree differences saved to 'degree_differences_13.csv'\n",
      "Degree differences saved to 'degree_differences_14.csv'\n",
      "Degree differences saved to 'degree_differences_15.csv'\n",
      "Degree differences saved to 'degree_differences_16.csv'\n",
      "Degree differences saved to 'degree_differences_17.csv'\n",
      "Degree differences saved to 'degree_differences_18.csv'\n",
      "Degree differences saved to 'degree_differences_19.csv'\n",
      "Degree differences saved to 'degree_differences_20.csv'\n",
      "Degree differences saved to 'degree_differences_21.csv'\n",
      "Degree differences saved to 'degree_differences_22.csv'\n",
      "Degree differences saved to 'degree_differences_23.csv'\n",
      "Degree differences saved to 'degree_differences_24.csv'\n",
      "Degree differences saved to 'degree_differences_25.csv'\n",
      "Degree differences saved to 'degree_differences_26.csv'\n",
      "Degree differences saved to 'degree_differences_27.csv'\n",
      "Degree differences saved to 'degree_differences_28.csv'\n",
      "Degree differences saved to 'degree_differences_29.csv'\n",
      "Degree differences saved to 'degree_differences_30.csv'\n",
      "Degree differences saved to 'degree_differences_31.csv'\n",
      "Degree differences saved to 'degree_differences_32.csv'\n",
      "Processing complete for all files.\n"
     ]
    }
   ],
   "source": [
    "import pandas as pd\n",
    "import networkx as nx\n",
    "\n",
    "\n",
    "# Number of files to process\n",
    "num_files = 32\n",
    "\n",
    "# Loop through the range 1 to num_files (inclusive)\n",
    "for i in range(1, num_files + 1):\n",
    "    # Step 1: Load each adjacency matrix from its corresponding file\n",
    "    input_file = f'/Users/gianmarcoferrara/Desktop/adjacency_matrices/adjacency_matrix_{i}.csv'\n",
    "    adjacency_matrix = pd.read_csv(input_file, header=None).values  # Convert to a NumPy array with .values\n",
    "\n",
    "    # Step 2: Create a directed graph from the adjacency matrix\n",
    "    G = nx.from_numpy_array(adjacency_matrix, create_using=nx.DiGraph)\n",
    "\n",
    "    # Step 3: Calculate the out-degree and in-degree for each node\n",
    "    out_degrees = {node: G.out_degree(node) for node in G.nodes()}\n",
    "    in_degrees = {node: G.in_degree(node) for node in G.nodes()}\n",
    "\n",
    "    # Step 4: Calculate the difference between out-degree and in-degree\n",
    "    degree_differences = {node: out_degrees[node] - in_degrees[node] for node in out_degrees}\n",
    "\n",
    "    # Step 5: Save the degree differences to output files\n",
    "    # Output file names\n",
    "    csv_output = f'degree_differences_{i}.csv'\n",
    "\n",
    "    # Option A: Save as a CSV file\n",
    "    degree_differences_df = pd.DataFrame(list(degree_differences.items()), columns=['Node', 'Degree_Difference'])\n",
    "    degree_differences_df.to_csv(csv_output, index=False)\n",
    "    print(f\"Degree differences saved to '{csv_output}'\")\n",
    "\n",
    "\n",
    "print(\"Processing complete for all files.\")\n",
    "\n"
   ]
  },
  {
   "cell_type": "code",
   "execution_count": null,
   "id": "c7d4e08c-d030-40de-97bd-a83942e261d1",
   "metadata": {},
   "outputs": [],
   "source": []
  }
 ],
 "metadata": {
  "kernelspec": {
   "display_name": "Python 3 (ipykernel)",
   "language": "python",
   "name": "python3"
  },
  "language_info": {
   "codemirror_mode": {
    "name": "ipython",
    "version": 3
   },
   "file_extension": ".py",
   "mimetype": "text/x-python",
   "name": "python",
   "nbconvert_exporter": "python",
   "pygments_lexer": "ipython3",
   "version": "3.11.7"
  }
 },
 "nbformat": 4,
 "nbformat_minor": 5
}
