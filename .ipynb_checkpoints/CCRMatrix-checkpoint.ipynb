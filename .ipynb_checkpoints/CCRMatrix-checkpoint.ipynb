{
 "cells": [
  {
   "cell_type": "code",
   "execution_count": null,
   "id": "632cb43d-8681-47c7-b168-310fe408b359",
   "metadata": {},
   "outputs": [],
   "source": [
    "import numpy as np\n",
    "import pandas as pd\n",
    "import matplotlib.pyplot as plt\n",
    "from datetime import datetime, timedelta\n",
    "\n",
    "df = pd.read_csv('serie_temporali_contee.csv')\n",
    "\n",
    "#creo colonna indice e setto come indice\n",
    "df['Index'] = range(0, len(df))\n",
    "df.set_index('Index', inplace=True)\n",
    "\n",
    "#rimuovo date\n",
    "df.drop(columns=['date'], inplace=True)\n",
    "\n",
    "#print(df)\n",
    "\n",
    "df.columns = range(len(df.columns))\n",
    "#print(df)\n",
    "print(len(df.columns))\n",
    "\n",
    "initial_index = 0\n",
    "final_index = 120\n",
    "\n",
    "\n",
    "#adesso provo a calcolare la ccr senza delay tra due serie nell'arco di 120 giorni\n",
    "#definisco la matrice dove andrò a mettere i risultati delle ccr\n",
    "\n",
    "result_matrix = np.zeros((len(df.columns),len(df.columns)))\n",
    "\n",
    "for i in range(len(df.columns) - 1):\n",
    "    for j in range(len(df.columns) - 1):\n",
    "        \n",
    "        average_i = df[i] [initial_index:final_index].mean()\n",
    "        average_j = df[j] [initial_index:final_index].mean()\n",
    "\n",
    "        df['product'] = df[i] * df[j]\n",
    "        average_ij = df['product'] [initial_index:final_index].mean()\n",
    "\n",
    "        std_i = df[i] [initial_index:final_index].std()\n",
    "        std_j = df[j] [initial_index:final_index].std()\n",
    "\n",
    "        ccr = (average_ij - (average_i * average_j))/(std_i + std_j)\n",
    "        \n",
    "        result_matrix[i,j] = ccr\n",
    "\n",
    "\n"
   ]
  }
 ],
 "metadata": {
  "kernelspec": {
   "display_name": "Python 3 (ipykernel)",
   "language": "python",
   "name": "python3"
  },
  "language_info": {
   "codemirror_mode": {
    "name": "ipython",
    "version": 3
   },
   "file_extension": ".py",
   "mimetype": "text/x-python",
   "name": "python",
   "nbconvert_exporter": "python",
   "pygments_lexer": "ipython3",
   "version": "3.11.7"
  }
 },
 "nbformat": 4,
 "nbformat_minor": 5
}
