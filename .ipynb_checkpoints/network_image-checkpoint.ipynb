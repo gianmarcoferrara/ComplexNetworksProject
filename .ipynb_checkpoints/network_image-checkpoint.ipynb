{
 "cells": [
  {
   "cell_type": "code",
   "execution_count": 1,
   "id": "04d8080a-87e7-499c-a619-aa578f3d5bcf",
   "metadata": {},
   "outputs": [
    {
     "ename": "AttributeError",
     "evalue": "module 'networkx' has no attribute 'from_numpy_matrix'",
     "output_type": "error",
     "traceback": [
      "\u001b[0;31m---------------------------------------------------------------------------\u001b[0m",
      "\u001b[0;31mAttributeError\u001b[0m                            Traceback (most recent call last)",
      "Cell \u001b[0;32mIn[1], line 15\u001b[0m\n\u001b[1;32m      7\u001b[0m adj_matrix \u001b[38;5;241m=\u001b[39m np\u001b[38;5;241m.\u001b[39marray([\n\u001b[1;32m      8\u001b[0m     [ \u001b[38;5;241m0\u001b[39m,  \u001b[38;5;241m1\u001b[39m, \u001b[38;5;241m-\u001b[39m\u001b[38;5;241m2\u001b[39m,  \u001b[38;5;241m0\u001b[39m],\n\u001b[1;32m      9\u001b[0m     [\u001b[38;5;241m-\u001b[39m\u001b[38;5;241m1\u001b[39m,  \u001b[38;5;241m0\u001b[39m,  \u001b[38;5;241m3\u001b[39m,  \u001b[38;5;241m0\u001b[39m],\n\u001b[1;32m     10\u001b[0m     [ \u001b[38;5;241m2\u001b[39m, \u001b[38;5;241m-\u001b[39m\u001b[38;5;241m3\u001b[39m,  \u001b[38;5;241m0\u001b[39m,  \u001b[38;5;241m1\u001b[39m],\n\u001b[1;32m     11\u001b[0m     [ \u001b[38;5;241m0\u001b[39m,  \u001b[38;5;241m0\u001b[39m, \u001b[38;5;241m-\u001b[39m\u001b[38;5;241m1\u001b[39m,  \u001b[38;5;241m0\u001b[39m]\n\u001b[1;32m     12\u001b[0m ])\n\u001b[1;32m     14\u001b[0m \u001b[38;5;66;03m# Create a directed graph from the adjacency matrix\u001b[39;00m\n\u001b[0;32m---> 15\u001b[0m G \u001b[38;5;241m=\u001b[39m nx\u001b[38;5;241m.\u001b[39mfrom_numpy_matrix(adj_matrix, create_using\u001b[38;5;241m=\u001b[39mnx\u001b[38;5;241m.\u001b[39mDiGraph)\n\u001b[1;32m     17\u001b[0m \u001b[38;5;66;03m# Draw the network\u001b[39;00m\n\u001b[1;32m     18\u001b[0m plt\u001b[38;5;241m.\u001b[39mfigure(figsize\u001b[38;5;241m=\u001b[39m(\u001b[38;5;241m8\u001b[39m, \u001b[38;5;241m6\u001b[39m))\n",
      "\u001b[0;31mAttributeError\u001b[0m: module 'networkx' has no attribute 'from_numpy_matrix'"
     ]
    }
   ],
   "source": [
    "import numpy as np\n",
    "import networkx as nx\n",
    "import matplotlib.pyplot as plt\n",
    "\n",
    "# Sample anti-symmetric adjacency matrix (replace this with your matrix)\n",
    "adj_matrix = np.array([\n",
    "    [ 0,  1, -2,  0],\n",
    "    [-1,  0,  3,  0],\n",
    "    [ 2, -3,  0,  1],\n",
    "    [ 0,  0, -1,  0]\n",
    "])\n",
    "\n",
    "# Create a directed graph from the adjacency matrix\n",
    "G = nx.from_numpy_array(adj_matrix, create_using=nx.DiGraph)\n",
    "\n",
    "# Draw the network\n",
    "plt.figure(figsize=(8, 6))\n",
    "pos = nx.spring_layout(G)  # Positioning of nodes (you can try other layouts like 'circular')\n",
    "nx.draw(G, pos, with_labels=True, node_color='skyblue', node_size=500, edge_color='gray', arrows=True)\n",
    "\n",
    "# Add edge labels to show weights\n",
    "edge_labels = {(i, j): f\"{G[i][j]['weight']}\" for i, j in G.edges}\n",
    "nx.draw_networkx_edge_labels(G, pos, edge_labels=edge_labels)\n",
    "\n",
    "plt.title(\"Directed Network from Anti-Symmetric Adjacency Matrix\")\n",
    "plt.show()\n"
   ]
  }
 ],
 "metadata": {
  "kernelspec": {
   "display_name": "Python 3 (ipykernel)",
   "language": "python",
   "name": "python3"
  },
  "language_info": {
   "codemirror_mode": {
    "name": "ipython",
    "version": 3
   },
   "file_extension": ".py",
   "mimetype": "text/x-python",
   "name": "python",
   "nbconvert_exporter": "python",
   "pygments_lexer": "ipython3",
   "version": "3.11.7"
  }
 },
 "nbformat": 4,
 "nbformat_minor": 5
}
