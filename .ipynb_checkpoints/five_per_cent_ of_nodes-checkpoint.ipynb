{
 "cells": [
  {
   "cell_type": "code",
   "execution_count": 11,
   "id": "10aa2888-7407-4e0c-b404-552fdd02699a",
   "metadata": {},
   "outputs": [],
   "source": [
    "import numpy as np\n",
    "import pandas as pd\n",
    "\n",
    "# Load the matrix from a CSV file\n",
    "matrix = pd.read_csv(\"/Users/gianmarcoferrara/Desktop/adjacency_matrices/adjacency_matrix_1.csv\", header=None).values  # Set header=None if there’s no header row\n",
    "\n",
    "# Set every value between -0.75 and 0.75 to 0\n",
    "matrix[(matrix > -0.6676) & (matrix < 0.6676)] = 0\n",
    "\n",
    "# Save the modified matrix back to a new CSV file\n",
    "pd.DataFrame(matrix).to_csv(\"adj_mat_1_fixed.csv\", index=False, header=False)\n"
   ]
  }
 ],
 "metadata": {
  "kernelspec": {
   "display_name": "Python 3 (ipykernel)",
   "language": "python",
   "name": "python3"
  },
  "language_info": {
   "codemirror_mode": {
    "name": "ipython",
    "version": 3
   },
   "file_extension": ".py",
   "mimetype": "text/x-python",
   "name": "python",
   "nbconvert_exporter": "python",
   "pygments_lexer": "ipython3",
   "version": "3.11.7"
  }
 },
 "nbformat": 4,
 "nbformat_minor": 5
}
