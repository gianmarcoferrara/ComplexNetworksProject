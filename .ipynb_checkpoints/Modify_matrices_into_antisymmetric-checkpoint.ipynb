{
 "cells": [
  {
   "cell_type": "code",
   "execution_count": 11,
   "id": "3eedb74d-564a-4801-bf75-44446986d25c",
   "metadata": {},
   "outputs": [],
   "source": [
    "import numpy as np\n",
    "import pandas as pd\n",
    "\n",
    "matrix_df = pd.read_csv('/Users/gianmarcoferrara/ComplexNetworksProject/10_sub_mat_3.csv')\n",
    "matrix_df = matrix_df.drop(columns=matrix_df.columns[0])\n",
    "\n",
    "# Convert the DataFrame to a NumPy array for easier manipulation\n",
    "matrix = matrix_df.to_numpy()\n",
    "\n",
    "# Set diagonal elements to zero\n",
    "np.fill_diagonal(matrix, 0)\n",
    "\n",
    "# Change the sign of elements below the diagonal\n",
    "rows, cols = matrix.shape\n",
    "for i in range(1, rows):\n",
    "    for j in range(i):\n",
    "        matrix[i, j] = -matrix[i, j]\n",
    "\n",
    "# Convert the modified matrix back to a DataFrame\n",
    "modified_matrix_df = pd.DataFrame(matrix, columns=matrix_df.columns)\n",
    "\n",
    "modified_matrix_df.to_csv('10_sub_mat_3.csv')\n",
    "\n",
    "\n",
    "\n"
   ]
  }
 ],
 "metadata": {
  "kernelspec": {
   "display_name": "Python 3 (ipykernel)",
   "language": "python",
   "name": "python3"
  },
  "language_info": {
   "codemirror_mode": {
    "name": "ipython",
    "version": 3
   },
   "file_extension": ".py",
   "mimetype": "text/x-python",
   "name": "python",
   "nbconvert_exporter": "python",
   "pygments_lexer": "ipython3",
   "version": "3.11.7"
  }
 },
 "nbformat": 4,
 "nbformat_minor": 5
}
