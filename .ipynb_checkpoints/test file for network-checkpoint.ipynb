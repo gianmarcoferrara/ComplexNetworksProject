{
 "cells": [
  {
   "cell_type": "code",
   "execution_count": null,
   "id": "c13c68bd-8d49-484d-b170-7da9e9dcf2c9",
   "metadata": {},
   "outputs": [],
   "source": [
    "import pandas as pd\n",
    "import networkx as nx\n",
    "\n",
    "# Load the adjacency matrix from the CSV file\n",
    "matrix = pd.read_csv('your_file.csv', header=None)\n",
    "\n",
    "# Convert the DataFrame to a NumPy array\n",
    "adj_matrix = matrix.values\n",
    "\n",
    "# Create a directed graph from the adjacency matrix\n",
    "G = nx.from_numpy_matrix(adj_matrix, create_using=nx.DiGraph)\n",
    "\n",
    "# Count the edges (non-zero links)\n",
    "num_links = G.number_of_edges()\n",
    "\n",
    "print(\"Number of links:\", num_links)"
   ]
  }
 ],
 "metadata": {
  "kernelspec": {
   "display_name": "Python 3 (ipykernel)",
   "language": "python",
   "name": "python3"
  },
  "language_info": {
   "codemirror_mode": {
    "name": "ipython",
    "version": 3
   },
   "file_extension": ".py",
   "mimetype": "text/x-python",
   "name": "python",
   "nbconvert_exporter": "python",
   "pygments_lexer": "ipython3",
   "version": "3.11.7"
  }
 },
 "nbformat": 4,
 "nbformat_minor": 5
}
