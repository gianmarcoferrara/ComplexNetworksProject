{
 "cells": [
  {
   "cell_type": "code",
   "execution_count": 5,
   "id": "c13c68bd-8d49-484d-b170-7da9e9dcf2c9",
   "metadata": {},
   "outputs": [
    {
     "ename": "NameError",
     "evalue": "name 'out_degrees' is not defined",
     "output_type": "error",
     "traceback": [
      "\u001b[0;31m---------------------------------------------------------------------------\u001b[0m",
      "\u001b[0;31mNameError\u001b[0m                                 Traceback (most recent call last)",
      "Cell \u001b[0;32mIn[5], line 21\u001b[0m\n\u001b[1;32m     18\u001b[0m in_degree \u001b[38;5;241m=\u001b[39m {node: G\u001b[38;5;241m.\u001b[39min_degree(node) \u001b[38;5;28;01mfor\u001b[39;00m node \u001b[38;5;129;01min\u001b[39;00m G\u001b[38;5;241m.\u001b[39mnodes()}\n\u001b[1;32m     20\u001b[0m \u001b[38;5;66;03m# Step 4: Calculate the difference between out-degree and in-degree using dictionary comprehension\u001b[39;00m\n\u001b[0;32m---> 21\u001b[0m degree_differences \u001b[38;5;241m=\u001b[39m {node: out_degrees[node] \u001b[38;5;241m-\u001b[39m in_degrees[node] \u001b[38;5;28;01mfor\u001b[39;00m node \u001b[38;5;129;01min\u001b[39;00m out_degrees}\n\u001b[1;32m     23\u001b[0m \u001b[38;5;28mprint\u001b[39m(out_degree)\n\u001b[1;32m     24\u001b[0m \u001b[38;5;28mprint\u001b[39m(in_degree)\n",
      "\u001b[0;31mNameError\u001b[0m: name 'out_degrees' is not defined"
     ]
    }
   ],
   "source": [
    "import pandas as pd\n",
    "import networkx as nx\n",
    "import matplotlib.pyplot as plt\n",
    "import numpy as np\n",
    "from sklearn.cluster import KMeans\n",
    "\n",
    "\n",
    "# Load the adjacency matrix\n",
    "file_path = '/Users/gianmarcoferrara/Desktop/adjacency_matrices/adjacency_matrix_1.csv'  # Replace with your actual file path\n",
    "adjacency_matrix = pd.read_csv(file_path, header=None).values\n",
    "\n",
    "\n",
    "# Create a directed graph from the adjacency matrix\n",
    "G = nx.from_numpy_array(adjacency_matrix, create_using=nx.DiGraph)\n",
    "\n",
    "# Calculate raw out-degree and in-degree\n",
    "out_degree = {node: G.out_degree(node) for node in G.nodes()}\n",
    "in_degree = {node: G.in_degree(node) for node in G.nodes()}\n",
    "\n",
    "# Step 4: Calculate the difference between out-degree and in-degree using dictionary comprehension\n",
    "degree_differences = {node: out_degree[node] - in_degree[node] for node in out_degree}\n",
    "\n",
    "print(out_degree)\n",
    "print(in_degree)\n",
    "\n",
    "print(degree_differences)"
   ]
  },
  {
   "cell_type": "code",
   "execution_count": null,
   "id": "c7d4e08c-d030-40de-97bd-a83942e261d1",
   "metadata": {},
   "outputs": [],
   "source": []
  }
 ],
 "metadata": {
  "kernelspec": {
   "display_name": "Python 3 (ipykernel)",
   "language": "python",
   "name": "python3"
  },
  "language_info": {
   "codemirror_mode": {
    "name": "ipython",
    "version": 3
   },
   "file_extension": ".py",
   "mimetype": "text/x-python",
   "name": "python",
   "nbconvert_exporter": "python",
   "pygments_lexer": "ipython3",
   "version": "3.11.7"
  }
 },
 "nbformat": 4,
 "nbformat_minor": 5
}
