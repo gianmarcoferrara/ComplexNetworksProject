{
 "cells": [
  {
   "cell_type": "code",
   "execution_count": null,
   "id": "c13c68bd-8d49-484d-b170-7da9e9dcf2c9",
   "metadata": {},
   "outputs": [],
   "source": [
    "import pandas as pd\n",
    "import networkx as nx\n",
    "import matplotlib.pyplot as plt\n",
    "\n",
    "# Load the adjacency matrix from the CSV file\n",
    "matrix = pd.read_csv('/Users/gianmarcoferrara/ComplexNetworksProject/adjacency_matrix_1.csv', header=None)\n",
    "\n",
    "# Convert the DataFrame to a NumPy array\n",
    "adj_matrix = matrix.values\n",
    "\n",
    "# Create a directed graph from the adjacency matrix\n",
    "G = nx.from_numpy_array(adj_matrix, create_using=nx.DiGraph)\n",
    "\n",
    "# Count the edges (non-zero links)\n",
    "num_links = G.number_of_edges()\n",
    "\n",
    "print(\"Number of links:\", num_links)\n",
    "\n",
    "# Create a directed graph from the adjacency matrix\n",
    "G = nx.from_numpy_array(adj_matrix, create_using=nx.DiGraph)\n",
    "\n",
    "# Remove self-loops if they exist\n",
    "G.remove_edges_from(nx.selfloop_edges(G))\n",
    "\n",
    "# Choose a layout for faster computation; here are three options\n",
    "#layout = nx.circular_layout(G)  # Fastest option\n",
    "# layout = nx.shell_layout(G)    # Alternative for grouped arrangement\n",
    "# layout = nx.kamada_kawai_layout(G)  # Balanced, but still slower than circular or shell\n",
    "\n",
    "# Draw the graph\n",
    "#plt.figure(figsize=(8, 6))\n",
    "#nx.draw_networkx(G, pos=layout, with_labels=False, node_size=20, node_color=\"lightblue\", edge_color=\"gray\", arrows=True)\n",
    "\n",
    "# Add a title and show the plot\n",
    "#plt.title(\"Directed Graph Visualization (Optimized Layout)\")\n",
    "#plt.show()\n",
    "# Compute the in-degree of each node\n",
    "in_degrees = dict(G.in_degree())  # Returns a dictionary {node: in-degree}\n",
    "\n",
    "# Print the in-degrees\n",
    "for node, degree in in_degrees.items():\n",
    "    print(f\"Node {node}: In-degree {degree}\")"
   ]
  },
  {
   "cell_type": "code",
   "execution_count": null,
   "id": "c7d4e08c-d030-40de-97bd-a83942e261d1",
   "metadata": {},
   "outputs": [],
   "source": []
  }
 ],
 "metadata": {
  "kernelspec": {
   "display_name": "Python 3 (ipykernel)",
   "language": "python",
   "name": "python3"
  },
  "language_info": {
   "codemirror_mode": {
    "name": "ipython",
    "version": 3
   },
   "file_extension": ".py",
   "mimetype": "text/x-python",
   "name": "python",
   "nbconvert_exporter": "python",
   "pygments_lexer": "ipython3",
   "version": "3.11.7"
  }
 },
 "nbformat": 4,
 "nbformat_minor": 5
}
