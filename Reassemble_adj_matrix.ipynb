{
 "cells": [
  {
   "cell_type": "code",
   "execution_count": 4,
   "id": "cc122cd7-8ef7-46aa-932b-91a3c5ced2c9",
   "metadata": {},
   "outputs": [
    {
     "name": "stdout",
     "output_type": "stream",
     "text": [
      "(3104, 3104)\n"
     ]
    }
   ],
   "source": [
    "import pandas as pd\n",
    "import numpy as np\n",
    "from scipy.linalg import block_diag\n",
    "\n",
    "#Diagonal blocks\n",
    "sub_mat_1 = pd.read_csv(\"/Users/gianmarcoferrara/ComplexNetworksProject/4_sub_mat_1.csv\", index_col=0)\n",
    "sub_mat_2 = pd.read_csv(\"/Users/gianmarcoferrara/ComplexNetworksProject/4_sub_mat_2.csv\", index_col=0)\n",
    "sub_mat_3 = pd.read_csv(\"/Users/gianmarcoferrara/ComplexNetworksProject/4_sub_mat_3.csv\", index_col=0)\n",
    "\n",
    "#Convert each DataFrame to numpy arrays\n",
    "sub_mat_1_np = sub_mat_1.values\n",
    "sub_mat_2_np = sub_mat_2.values\n",
    "sub_mat_3_np = sub_mat_3.values\n",
    "\n",
    "#Cross-matrices\n",
    "cross_1_2 = pd.read_csv(\"/Users/gianmarcoferrara/ComplexNetworksProject/4_cross_matrix_1_2.csv\", index_col=0)\n",
    "cross_1_3 = pd.read_csv(\"/Users/gianmarcoferrara/ComplexNetworksProject/4_cross_matrix_1_3.csv\", index_col=0)\n",
    "cross_2_3 = pd.read_csv(\"/Users/gianmarcoferrara/ComplexNetworksProject/4_cross_matrix_2_3.csv\", index_col=0)\n",
    "\n",
    "#Convert each DataFrame to numpy arrays\n",
    "cross_1_2_np = cross_1_2.values\n",
    "cross_1_3_np = cross_1_3.values\n",
    "cross_2_3_np = cross_2_3.values\n",
    "\n",
    "cross_2_1_np = -cross_1_2.T\n",
    "cross_3_1_np = -cross_1_3.T\n",
    "cross_3_2_np = -cross_2_3.T\n",
    "\n",
    "\n",
    "# Initialize a zero matrix of the final size: 3104 x 3104\n",
    "full_matrix = np.zeros((3104, 3104))\n",
    "\n",
    "# Place diagonal blocks\n",
    "full_matrix[0:1000, 0:1000] = sub_mat_1_np\n",
    "full_matrix[1000:2000, 1000:2000] = sub_mat_2_np\n",
    "full_matrix[2000:3104, 2000:3104] = sub_mat_3_np\n",
    "\n",
    "# Place off-diagonal blocks\n",
    "full_matrix[0:1000, 1000:2000] = cross_1_2_np  # top-right off-diagonal\n",
    "full_matrix[0:1000, 2000:3104] = cross_1_3_np\n",
    "full_matrix[1000:2000, 2000:3104] = cross_2_3_np\n",
    "\n",
    "full_matrix[1000:2000, 0:1000] = cross_2_1_np  # bottom-left off-diagonal\n",
    "full_matrix[2000:3104, 0:1000] = cross_3_1_np\n",
    "full_matrix[2000:3104, 1000:2000] = cross_3_2_np  # top-left of lower half\n",
    "\n",
    "# Convert back to DataFrame for readability\n",
    "full_matrix_df = pd.DataFrame(full_matrix)\n",
    "full_matrix_df.to_csv(\"adjacency_matrix_4.csv\")\n",
    "# Display the shape of the final matrix\n",
    "print(full_matrix_df.shape)\n",
    "\n"
   ]
  }
 ],
 "metadata": {
  "kernelspec": {
   "display_name": "Python 3 (ipykernel)",
   "language": "python",
   "name": "python3"
  },
  "language_info": {
   "codemirror_mode": {
    "name": "ipython",
    "version": 3
   },
   "file_extension": ".py",
   "mimetype": "text/x-python",
   "name": "python",
   "nbconvert_exporter": "python",
   "pygments_lexer": "ipython3",
   "version": "3.11.7"
  }
 },
 "nbformat": 4,
 "nbformat_minor": 5
}
