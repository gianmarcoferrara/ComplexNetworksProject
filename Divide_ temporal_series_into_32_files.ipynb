{
 "cells": [
  {
   "cell_type": "code",
   "execution_count": 1,
   "id": "486182f0-66be-4d81-8f01-9d998fac548d",
   "metadata": {},
   "outputs": [
    {
     "name": "stdout",
     "output_type": "stream",
     "text": [
      "File temporal_series_1.csv created with rows 0 to 119\n",
      "File temporal_series_2.csv created with rows 30 to 149\n",
      "File temporal_series_3.csv created with rows 60 to 179\n",
      "File temporal_series_4.csv created with rows 90 to 209\n",
      "File temporal_series_5.csv created with rows 120 to 239\n",
      "File temporal_series_6.csv created with rows 150 to 269\n",
      "File temporal_series_7.csv created with rows 180 to 299\n",
      "File temporal_series_8.csv created with rows 210 to 329\n",
      "File temporal_series_9.csv created with rows 240 to 359\n",
      "File temporal_series_10.csv created with rows 270 to 389\n",
      "File temporal_series_11.csv created with rows 300 to 419\n",
      "File temporal_series_12.csv created with rows 330 to 449\n",
      "File temporal_series_13.csv created with rows 360 to 479\n",
      "File temporal_series_14.csv created with rows 390 to 509\n",
      "File temporal_series_15.csv created with rows 420 to 539\n",
      "File temporal_series_16.csv created with rows 450 to 569\n",
      "File temporal_series_17.csv created with rows 480 to 599\n",
      "File temporal_series_18.csv created with rows 510 to 629\n",
      "File temporal_series_19.csv created with rows 540 to 659\n",
      "File temporal_series_20.csv created with rows 570 to 689\n",
      "File temporal_series_21.csv created with rows 600 to 719\n",
      "File temporal_series_22.csv created with rows 630 to 749\n",
      "File temporal_series_23.csv created with rows 660 to 779\n",
      "File temporal_series_24.csv created with rows 690 to 809\n",
      "File temporal_series_25.csv created with rows 720 to 839\n",
      "File temporal_series_26.csv created with rows 750 to 869\n",
      "File temporal_series_27.csv created with rows 780 to 899\n",
      "File temporal_series_28.csv created with rows 810 to 929\n",
      "File temporal_series_29.csv created with rows 840 to 959\n",
      "File temporal_series_30.csv created with rows 870 to 989\n",
      "File temporal_series_31.csv created with rows 900 to 1019\n",
      "File temporal_series_32.csv created with rows 930 to 1047\n"
     ]
    }
   ],
   "source": [
    "import pandas as pd\n",
    "\n",
    "# Load the CSV file\n",
    "file_path = '/Users/gianmarcoferrara/ComplexNetworksProject/serie_temporali_contee.csv'\n",
    "df = pd.read_csv(file_path)\n",
    "\n",
    "# Set the parameters\n",
    "rows_per_file = 120\n",
    "shift = 30\n",
    "num_files = 32\n",
    "total_rows = df.shape[0]  # Total number of rows in the dataset\n",
    "\n",
    "# Loop to create the divided files\n",
    "for i in range(num_files):\n",
    "    # Determine start and end rows for each chunk\n",
    "    start_row = i * shift\n",
    "    end_row = start_row + rows_per_file\n",
    "    \n",
    "    # If the start_row exceeds the total number of rows, stop the loop\n",
    "    if start_row >= total_rows:\n",
    "        break\n",
    "    \n",
    "    # Make sure we don't go beyond the available rows\n",
    "    end_row = min(end_row, total_rows)\n",
    "    \n",
    "    # Extract the chunk of data\n",
    "    chunk = df.iloc[start_row:end_row]\n",
    "    \n",
    "    # Create the filename for each chunk\n",
    "    output_filename = f'temporal_series_{i+1}.csv'\n",
    "    \n",
    "    # Save the chunk to a new CSV file\n",
    "    chunk.to_csv(output_filename, index=False)\n",
    "    \n",
    "    print(f'File {output_filename} created with rows {start_row} to {end_row - 1}')\n",
    "\n"
   ]
  }
 ],
 "metadata": {
  "kernelspec": {
   "display_name": "Python 3 (ipykernel)",
   "language": "python",
   "name": "python3"
  },
  "language_info": {
   "codemirror_mode": {
    "name": "ipython",
    "version": 3
   },
   "file_extension": ".py",
   "mimetype": "text/x-python",
   "name": "python",
   "nbconvert_exporter": "python",
   "pygments_lexer": "ipython3",
   "version": "3.11.7"
  }
 },
 "nbformat": 4,
 "nbformat_minor": 5
}
